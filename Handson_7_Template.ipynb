{
 "cells": [
  {
   "cell_type": "markdown",
   "metadata": {},
   "source": [
    "# Exceptions\n",
    "\n",
    "To submit this assignment in D2l, post the link to your notebook file on your GitHub account."
   ]
  },
  {
   "cell_type": "markdown",
   "metadata": {},
   "source": [
    "## 8.1 Tip Calculator\n",
    "Add exception handling to a Tip Calculator program.\n",
    "\n",
    "### Console:\n",
    "```powershell\n",
    "Tip Calculator\n",
    "\n",
    "INPUT\n",
    "Cost of meal: ten\n",
    "Must be valid decimal number. Please try again. \n",
    "Cost of meal: -10\n",
    "Must be greater than 0. Please try again. \n",
    "Cost of meal: 52.31\n",
    "Tip percent:\t17.5\n",
    "Must be valid integer. Please try again. \n",
    "Tip percent:\t20\n",
    "\n",
    "OUTPUT\n",
    "Cost of meal:   52.31 \n",
    "Tip percent:    20%\n",
    "Tip amount:     10.46\n",
    "Total amount:   62.77\n",
    "```\n",
    "\n",
    "### Specifications:\n",
    "- The program should accept **decimal** entries like 52.31 and 15.5 for the cost of the meal.\n",
    "- The program should accept **integer** entries like 15, 20, 25 for the tip percent.\n",
    "- The program should validate both user entries. That way, the user can’t crash the program by entering invalid data.\n",
    "- The program should only accept numbers that are **greater than 0**.\n",
    "- The program should round results to a maximum of two decimal places.\n"
   ]
  },
  {
   "cell_type": "code",
   "execution_count": 1,
   "metadata": {},
   "outputs": [
    {
     "name": "stdout",
     "output_type": "stream",
     "text": [
      "Tip Calculator\n",
      "\n",
      "INPUT\n"
     ]
    },
    {
     "name": "stdin",
     "output_type": "stream",
     "text": [
      "Cost of meal:  ten\n"
     ]
    },
    {
     "name": "stdout",
     "output_type": "stream",
     "text": [
      "Must be valid decimal number. Please try again.\n"
     ]
    },
    {
     "name": "stdin",
     "output_type": "stream",
     "text": [
      "Cost of meal:  -10\n"
     ]
    },
    {
     "name": "stdout",
     "output_type": "stream",
     "text": [
      "Must be greater than 0. Please try again.\n"
     ]
    },
    {
     "name": "stdin",
     "output_type": "stream",
     "text": [
      "Cost of meal:  10\n",
      "Tip percent:\t 17.5\n"
     ]
    },
    {
     "name": "stdout",
     "output_type": "stream",
     "text": [
      "Must be valid integer. Please try again.\n"
     ]
    },
    {
     "name": "stdin",
     "output_type": "stream",
     "text": [
      "Tip percent:\t 20\n"
     ]
    },
    {
     "name": "stdout",
     "output_type": "stream",
     "text": [
      "\n",
      "OUTPUT\n",
      "Cost of meal:   10.00\n",
      "Tip percent:    20%\n",
      "Tip amount:     2.00\n",
      "Total amount:   12.00\n"
     ]
    }
   ],
   "source": [
    "def get_cost_of_meal():\n",
    "    while True:\n",
    "        cost_input = input(\"Cost of meal: \")\n",
    "        try:\n",
    "            cost = float(cost_input)\n",
    "            if cost <= 0:\n",
    "                print(\"Must be greater than 0. Please try again.\")\n",
    "            else:\n",
    "                return round(cost, 2)\n",
    "        except ValueError:\n",
    "            print(\"Must be valid decimal number. Please try again.\")\n",
    "\n",
    "def get_tip_percent():\n",
    "    while True:\n",
    "        tip_input = input(\"Tip percent:\\t\")\n",
    "        try:\n",
    "            tip = int(tip_input)\n",
    "            if tip <= 0:\n",
    "                print(\"Must be greater than 0. Please try again.\")\n",
    "            else:\n",
    "                return tip\n",
    "        except ValueError:\n",
    "            print(\"Must be valid integer. Please try again.\")\n",
    "\n",
    "def main():\n",
    "    print(\"Tip Calculator\\n\")\n",
    "    print(\"INPUT\")\n",
    "    \n",
    "    cost = get_cost_of_meal()\n",
    "    tip_percent = get_tip_percent()\n",
    "    \n",
    "    tip_amount = round(cost * tip_percent / 100, 2)\n",
    "    total = round(cost + tip_amount, 2)\n",
    "    \n",
    "    print(\"\\nOUTPUT\")\n",
    "    print(f\"Cost of meal:   {cost:.2f}\")\n",
    "    print(f\"Tip percent:    {tip_percent}%\")\n",
    "    print(f\"Tip amount:     {tip_amount:.2f}\")\n",
    "    print(f\"Total amount:   {total:.2f}\")\n",
    "\n",
    "if __name__ == \"__main__\":\n",
    "    main()\n"
   ]
  },
  {
   "cell_type": "markdown",
   "metadata": {},
   "source": [
    "## 8.2 Wizard Inventory\n",
    "\n",
    "Add exception handling to a program that keeps track of the inventory of items that a wizard can carry. If you still have Wizard Inventory from Handson_5, you can add the exception handling to that program. Otherwise, you can start this program from scratch.\n",
    "\n",
    "### Console if the program can't find the **inventory** file:\n",
    "```powershell\n",
    "The Wizard Inventory program\n",
    "\n",
    "COMMAND MENU\n",
    "walk - Walk down the path \n",
    "show - Show all items \n",
    "drop - Drop an item\n",
    "exit - Exit program\n",
    "\n",
    "Could not find inventory file!\n",
    "Wizard is starting with no inventory.\n",
    "\n",
    "Command: walk\n",
    "While walking down a path, you see a crossbow.\n",
    "Do you want to grab it? (y/n): y\n",
    "You picked up a crossbow.\n",
    "\n",
    "Command: show\n",
    "1. a crossbow\n",
    "\n",
    "Command: drop Number: x\n",
    "Invalid item number.\n",
    "```\n",
    "\n",
    "### The error message if the program can’t find the **items** file:\n",
    "```powershell\n",
    "Could not find items file.\t\n",
    "Exiting program. Bye!\t\n",
    "```\n",
    "\n",
    "### Specifications:\n",
    "- This program should read the text file named `wizard_all_items.txt` that contains all the items a wizard can carry.\n",
    "- When the user selects the walk command, the program should randomly pick one of the items that were read from the text file and give the user the option to grab it.\n",
    "- The current items that the wizard is carrying should be saved in an inventory file. Make sure to update this file every time the user grabs or drops an item.\n",
    "- The wizard can only carry four items at a time. For the drop command, display an error message if the user enters an invalid integer or an integer that doesn’t correspond with an item.\n",
    "- Handle all exceptions that might occur so that the user can’t cause the program to crash. If the all items file is missing, display an appropriate error message and exit the program.\n",
    "- If the inventory file is missing, display an appropriate error message and continue with an empty inventory for the user. That way, the program will write a new inventory file when the user adds items to the inventory."
   ]
  },
  {
   "cell_type": "code",
   "execution_count": 1,
   "metadata": {},
   "outputs": [
    {
     "name": "stdout",
     "output_type": "stream",
     "text": [
      "The Wizard Inventory Program\n",
      "\n",
      "COMMAND MENU\n",
      "walk - Walk down the path\n",
      "show - Show all items\n",
      "drop - Drop an item\n",
      "exit - Exit program\n",
      "\n",
      "Could not find inventory file!\n",
      "Wizard is starting with no inventory.\n"
     ]
    },
    {
     "name": "stdin",
     "output_type": "stream",
     "text": [
      "\n",
      "Command:  walk\n"
     ]
    },
    {
     "name": "stdout",
     "output_type": "stream",
     "text": [
      "While walking down a path, you see a wizard's cloak.\n"
     ]
    },
    {
     "name": "stdin",
     "output_type": "stream",
     "text": [
      "Do you want to grab it? (y/n):  y\n"
     ]
    },
    {
     "name": "stdout",
     "output_type": "stream",
     "text": [
      "You picked up a wizard's cloak.\n"
     ]
    },
    {
     "name": "stdin",
     "output_type": "stream",
     "text": [
      "\n",
      "Command:  show\n"
     ]
    },
    {
     "name": "stdout",
     "output_type": "stream",
     "text": [
      "1. a wizard's cloak\n"
     ]
    },
    {
     "name": "stdin",
     "output_type": "stream",
     "text": [
      "\n",
      "Command:  drop\n",
      "Drop number:  x\n"
     ]
    },
    {
     "name": "stdout",
     "output_type": "stream",
     "text": [
      "Invalid item number.\n"
     ]
    },
    {
     "name": "stdin",
     "output_type": "stream",
     "text": [
      "\n",
      "Command:  exit\n"
     ]
    },
    {
     "name": "stdout",
     "output_type": "stream",
     "text": [
      "Bye!\n"
     ]
    }
   ],
   "source": [
    "import random\n",
    "import os\n",
    "\n",
    "my_items = []\n",
    "items = []\n",
    "\n",
    "def menu():\n",
    "    print(\"The Wizard Inventory Program\\n\")\n",
    "    print(\"COMMAND MENU\")\n",
    "    print(\"walk - Walk down the path\")\n",
    "    print(\"show - Show all items\")\n",
    "    print(\"drop - Drop an item\")\n",
    "    print(\"exit - Exit program\")\n",
    "\n",
    "def load_inventory():\n",
    "    try:\n",
    "        with open(\"wizard_inventory.txt\", \"r\") as file:\n",
    "            for line in file:\n",
    "                line = line.strip()\n",
    "                if line:\n",
    "                    my_items.append(line)\n",
    "    except FileNotFoundError:\n",
    "        print(\"\\nCould not find inventory file!\")\n",
    "        print(\"Wizard is starting with no inventory.\")\n",
    "\n",
    "def load_items():\n",
    "    try:\n",
    "        with open(\"wizard_all_items.txt\", \"r\") as file:\n",
    "            for line in file:\n",
    "                line = line.strip()\n",
    "                if line:\n",
    "                    items.append(line)\n",
    "    except FileNotFoundError:\n",
    "        print(\"\\nCould not find items file.\")\n",
    "        print(\"Exiting program. Bye!\")\n",
    "        exit()\n",
    "\n",
    "def save_inventory():\n",
    "    with open(\"wizard_inventory.txt\", \"w\") as file:\n",
    "        for item in my_items:\n",
    "            file.write(item + \"\\n\")\n",
    "\n",
    "def walk():\n",
    "    if not items:\n",
    "        load_items()\n",
    "    if not items:\n",
    "        return\n",
    "\n",
    "    new_item = random.choice(items)\n",
    "    print(f\"While walking down a path, you see {new_item}.\")\n",
    "    choice = input(\"Do you want to grab it? (y/n): \").lower()\n",
    "\n",
    "    if choice == 'y':\n",
    "        if len(my_items) < 4:\n",
    "            my_items.append(new_item)\n",
    "            save_inventory()\n",
    "            print(f\"You picked up {new_item}.\")\n",
    "        else:\n",
    "            print(\"You can't carry any more items. Drop something first.\")\n",
    "\n",
    "def show():\n",
    "    if not my_items:\n",
    "        print(\"Your inventory is empty.\")\n",
    "    else:\n",
    "        for i, item in enumerate(my_items, start=1):\n",
    "            print(f\"{i}. {item}\")\n",
    "\n",
    "def drop():\n",
    "    try:\n",
    "        drop_number = int(input(\"Drop number: \"))\n",
    "        if 1 <= drop_number <= len(my_items):\n",
    "            removed_item = my_items.pop(drop_number - 1)\n",
    "            save_inventory()\n",
    "            print(f\"You dropped {removed_item}.\")\n",
    "        else:\n",
    "            print(\"Invalid item number.\")\n",
    "    except ValueError:\n",
    "        print(\"Invalid item number.\")\n",
    "\n",
    "def exit_program():\n",
    "    print(\"Bye!\")\n",
    "\n",
    "def main():\n",
    "    menu()\n",
    "    load_inventory()\n",
    "    while True:\n",
    "        command = input(\"\\nCommand: \").strip().lower()\n",
    "        if command == \"walk\":\n",
    "            walk()\n",
    "        elif command == \"show\":\n",
    "            show()\n",
    "        elif command == \"drop\":\n",
    "            drop()\n",
    "        elif command == \"exit\":\n",
    "            exit_program()\n",
    "            break\n",
    "        else:\n",
    "            print(\"Invalid command.\")\n",
    "\n",
    "if __name__ == \"__main__\":\n",
    "    main()\n",
    "\n"
   ]
  },
  {
   "cell_type": "code",
   "execution_count": null,
   "metadata": {},
   "outputs": [],
   "source": []
  },
  {
   "cell_type": "code",
   "execution_count": null,
   "metadata": {},
   "outputs": [],
   "source": []
  }
 ],
 "metadata": {
  "kernelspec": {
   "display_name": "Python [conda env:base] *",
   "language": "python",
   "name": "conda-base-py"
  },
  "language_info": {
   "codemirror_mode": {
    "name": "ipython",
    "version": 3
   },
   "file_extension": ".py",
   "mimetype": "text/x-python",
   "name": "python",
   "nbconvert_exporter": "python",
   "pygments_lexer": "ipython3",
   "version": "3.12.7"
  }
 },
 "nbformat": 4,
 "nbformat_minor": 4
}

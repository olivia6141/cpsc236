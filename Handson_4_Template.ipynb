{
 "cells": [
  {
   "cell_type": "markdown",
   "metadata": {},
   "source": [
    "# List and Tuples\n",
    "\n",
    "To submit this assignment in D2l, post the link to your notebook file on your GitHub account."
   ]
  },
  {
   "cell_type": "markdown",
   "metadata": {},
   "source": [
    "## 6.1 Prime Number Checker\n",
    "Create a program that checks whether a number is a prime number and displays its factors if it is not a prime number.\n",
    "\n",
    "### Console:\n",
    "```powershell\n",
    "Prime Number Checker\n",
    "\n",
    "Please enter an integer between 1 and 5000: 5\n",
    "5 is a prime number.\n",
    "\n",
    "Try again? (y/n): y\n",
    "\n",
    "Please enter an integer between 1 and 5000: 6\n",
    "6 is NOT a prime number.\n",
    "It has 4 factors: 1 2 3 6\n",
    "\n",
    "Try again? (y/n): y\n",
    "\n",
    "Please enter an integer between 1 and 5000: 200\n",
    "200 is NOT a prime number.\n",
    "It has 12 factors: 1 2 4 5 8 10 20 25 40 50 100 200\n",
    "\n",
    "Try again? (y/n): n\n",
    "\n",
    "Bye!\n",
    "```\n",
    "\n",
    "### Specifications:\n",
    "- A prime number is divisible by two factors (1 and itself). For example, 7 is a prime number because it is only divisible by 1 and 7.\n",
    "- If the user enters an integer that's not between 1 and 5000, the program should display an error message.\n",
    "- If the number is a prime number, the program should display a message.\n",
    "If the number is not a prime number, the program should display a message. Then, it should display the number of factors for the number and a list of those factors.\n",
    "- Store the factors for each number in a list.\n",
    "- Use functions to organize the code for this program.\n"
   ]
  },
  {
   "cell_type": "code",
   "execution_count": 5,
   "metadata": {},
   "outputs": [
    {
     "name": "stdout",
     "output_type": "stream",
     "text": [
      "Prime Number Checker\n"
     ]
    },
    {
     "name": "stdin",
     "output_type": "stream",
     "text": [
      "\n",
      "Please enter an integer between 1 and 5,000:  5\n"
     ]
    },
    {
     "name": "stdout",
     "output_type": "stream",
     "text": [
      "5 is a prime number\n"
     ]
    },
    {
     "name": "stdin",
     "output_type": "stream",
     "text": [
      "\n",
      "Try again? (y/n):  y\n",
      "\n",
      "Please enter an integer between 1 and 5,000:  6\n"
     ]
    },
    {
     "name": "stdout",
     "output_type": "stream",
     "text": [
      "6 is not a prime number\n",
      "It has 4 factors\n",
      "The factors are: [1, 2, 3, 6]\n"
     ]
    },
    {
     "name": "stdin",
     "output_type": "stream",
     "text": [
      "\n",
      "Try again? (y/n):  y\n",
      "\n",
      "Please enter an integer between 1 and 5,000:  200\n"
     ]
    },
    {
     "name": "stdout",
     "output_type": "stream",
     "text": [
      "200 is not a prime number\n",
      "It has 12 factors\n",
      "The factors are: [1, 2, 4, 5, 8, 10, 20, 25, 40, 50, 100, 200]\n"
     ]
    },
    {
     "name": "stdin",
     "output_type": "stream",
     "text": [
      "\n",
      "Try again? (y/n):  n\n"
     ]
    },
    {
     "name": "stdout",
     "output_type": "stream",
     "text": [
      "\n",
      "Bye!\n"
     ]
    }
   ],
   "source": [
    "def title():\n",
    "    print(\"Prime Number Checker\")\n",
    "\n",
    "def check(num):\n",
    "    if num in range(1, 5000):\n",
    "        return True\n",
    "    else:\n",
    "        print(\"Invalid integer, please try again\")\n",
    "        return False\n",
    "\n",
    "\n",
    "def factors(num):\n",
    "    count = 0\n",
    "    for i in range(1, num+1):\n",
    "        if num % i == 0:\n",
    "            count += 1\n",
    "    return count\n",
    "\n",
    "def main():\n",
    "    choice = 'y'\n",
    "    title()\n",
    "    while choice.lower() == 'y':\n",
    "        num = int(input(\"\\nPlease enter an integer between 1 and 5,000: \"))\n",
    "        if not check(num):\n",
    "            continue\n",
    "        mycount = factors(num)\n",
    "        if mycount == 2:\n",
    "            print(num, \"is a prime number\")\n",
    "        else:\n",
    "            print(num, \"is not a prime number\")\n",
    "            print(\"It has\", mycount, \"factors\")\n",
    "            factors_list = []\n",
    "            for x in range(1, num + 1):\n",
    "                if num % x == 0:\n",
    "                    factors_list.append(x)\n",
    "            print(\"The factors are:\", factors_list)\n",
    "        \n",
    "        choice = input(\"\\nTry again? (y/n): \")\n",
    "        if choice.lower() == 'n':\n",
    "            print(\"\\nBye!\")\n",
    "\n",
    "if __name__ == \"__main__\":\n",
    "    main()\n",
    "\n",
    "\n",
    "\n"
   ]
  },
  {
   "cell_type": "markdown",
   "metadata": {},
   "source": [
    "## 6.2 - Contact Manager\n",
    "Create a program that a user can use to manage the primary email address and phone number for a contact.\n",
    "\n",
    "### Console\n",
    "```powershell\n",
    "Contact Manager\n",
    "\n",
    "COMMAND MENU\n",
    "list - Display all contacts\n",
    "view - View a contact\n",
    "add - Add a contact\n",
    "del - Delete a contact\n",
    "exit - Exit program\n",
    "\n",
    "Command: list\n",
    "1. Guido van Rossum\n",
    "2. Eric Idle\n",
    "\n",
    "Command: view\n",
    "Number: 2\n",
    "Name: Eric Idle\n",
    "Email: eric@ericidle.com\n",
    "Phone: +44 20 7946 0958\n",
    "\n",
    "Command: add\n",
    "Name: Mike Murach\n",
    "Email: mike@murach.com\n",
    "Phone: 559-123-4567\n",
    "Mike Murach was added.\n",
    "\n",
    "Command: del\n",
    "Number: 1\n",
    "Guido van Rossum was deleted.\n",
    "\n",
    "Command: list\n",
    "1. Eric Idle\n",
    "2. Mike Murach\n",
    "\n",
    "Command: exit\n",
    "Bye!\n",
    "```\n",
    "\n",
    "### Specifications:\n",
    "- Use a list of lists to store the data for the contacts. Provide starting data for two or more contacts.\n",
    "- For the `view` and `del` commands, display an error message if the user enters and invalid contact number.\n",
    "- When you exit the program, all changes that you made to the contact list are lost.\n",
    "\n",
    "\n"
   ]
  },
  {
   "cell_type": "code",
   "execution_count": 3,
   "metadata": {},
   "outputs": [
    {
     "name": "stdout",
     "output_type": "stream",
     "text": [
      "\n",
      "Contact Manager \n",
      "\n",
      "COMMAND MENU\n",
      "list - Display all contacts\n",
      "view - View a contact\n",
      "add - Add a contact\n",
      "del - Delete a contact\n",
      "exit - Exit program\n"
     ]
    },
    {
     "name": "stdin",
     "output_type": "stream",
     "text": [
      "\n",
      "Command:  list\n"
     ]
    },
    {
     "name": "stdout",
     "output_type": "stream",
     "text": [
      "1. Guido van Rossum\n",
      "2. Eric Idle\n"
     ]
    },
    {
     "name": "stdin",
     "output_type": "stream",
     "text": [
      "\n",
      "Command:  view\n",
      "Number:  2\n"
     ]
    },
    {
     "name": "stdout",
     "output_type": "stream",
     "text": [
      "Name: Eric Idle\n",
      "Email: eric@ericidle.com\n",
      "Phone: +44 20 7946 0958\n"
     ]
    },
    {
     "name": "stdin",
     "output_type": "stream",
     "text": [
      "\n",
      "Command:  add\n",
      "Name:  Mike Murich\n",
      "Email:  mike@murich.com\n",
      "Phone:  559-123-4567\n"
     ]
    },
    {
     "name": "stdout",
     "output_type": "stream",
     "text": [
      "Contact added.\n"
     ]
    },
    {
     "name": "stdin",
     "output_type": "stream",
     "text": [
      "\n",
      "Command:  del\n",
      "Number:  1\n"
     ]
    },
    {
     "name": "stdout",
     "output_type": "stream",
     "text": [
      "Guido van Rossum was deleted.\n"
     ]
    },
    {
     "name": "stdin",
     "output_type": "stream",
     "text": [
      "\n",
      "Command:  list\n"
     ]
    },
    {
     "name": "stdout",
     "output_type": "stream",
     "text": [
      "1. Eric Idle\n",
      "2. Mike Murich\n"
     ]
    },
    {
     "name": "stdin",
     "output_type": "stream",
     "text": [
      "\n",
      "Command:  exit\n"
     ]
    },
    {
     "name": "stdout",
     "output_type": "stream",
     "text": [
      "Bye!\n"
     ]
    }
   ],
   "source": [
    "def menu():\n",
    "    print(\"\\nContact Manager \")\n",
    "    print(\"\\nCOMMAND MENU\")\n",
    "    print(\"list - Display all contacts\")\n",
    "    print(\"view - View a contact\")\n",
    "    print(\"add - Add a contact\")\n",
    "    print(\"del - Delete a contact\")\n",
    "    print(\"exit - Exit program\")\n",
    "def list_contacts(contacts):\n",
    "    for i, contact in enumerate(contacts, 1):\n",
    "        print(f\"{i}. {contact[0]}\")\n",
    "\n",
    "def get_contact_index(contacts, prompt):\n",
    "    try:\n",
    "        index = int(input(prompt)) - 1\n",
    "        if 0 <= index < len(contacts):\n",
    "            return index\n",
    "        print(\"Invalid contact number.\")\n",
    "    except ValueError:\n",
    "        print(\"Please enter a valid number.\")\n",
    "    return None\n",
    "\n",
    "def view_contact(contacts):\n",
    "    index = get_contact_index(contacts, \"Number: \")\n",
    "    if index is not None:\n",
    "        print(f\"Name: {contacts[index][0]}\\nEmail: {contacts[index][1]}\\nPhone: {contacts[index][2]}\")\n",
    "\n",
    "def add_contact(contacts):\n",
    "    contacts.append([input(\"Name: \"), input(\"Email: \"), input(\"Phone: \")])\n",
    "    print(\"Contact added.\")\n",
    "\n",
    "def delete_contact(contacts):\n",
    "    index = get_contact_index(contacts, \"Number: \")\n",
    "    if index is not None:\n",
    "        print(f\"{contacts.pop(index)[0]} was deleted.\")\n",
    "\n",
    "def main():\n",
    "    contacts = [[\"Guido van Rossum\", \"guido@python.org\", \"+31 20 123 4567\"],\n",
    "                [\"Eric Idle\", \"eric@ericidle.com\", \"+44 20 7946 0958\"]]\n",
    "    menu()\n",
    "    commands = {\"list\": list_contacts, \"view\": view_contact, \"add\": add_contact, \"del\": delete_contact}\n",
    "    while (cmd := input(\"\\nCommand: \").strip().lower()) != \"exit\":\n",
    "        commands.get(cmd, lambda _: print(\"Invalid command.\"))(contacts)\n",
    "    print(\"Bye!\")\n",
    "\n",
    "if __name__ == \"__main__\":\n",
    "    main()\n"
   ]
  },
  {
   "cell_type": "code",
   "execution_count": null,
   "metadata": {},
   "outputs": [],
   "source": []
  }
 ],
 "metadata": {
  "kernelspec": {
   "display_name": "Python [conda env:base] *",
   "language": "python",
   "name": "conda-base-py"
  },
  "language_info": {
   "codemirror_mode": {
    "name": "ipython",
    "version": 3
   },
   "file_extension": ".py",
   "mimetype": "text/x-python",
   "name": "python",
   "nbconvert_exporter": "python",
   "pygments_lexer": "ipython3",
   "version": "3.12.7"
  }
 },
 "nbformat": 4,
 "nbformat_minor": 4
}

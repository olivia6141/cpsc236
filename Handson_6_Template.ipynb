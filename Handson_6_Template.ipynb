{
 "cells": [
  {
   "cell_type": "markdown",
   "metadata": {},
   "source": [
    "# Dictionaries\n",
    "\n",
    "To submit this assignment in D2l, post the link to your notebook file on your GitHub account."
   ]
  },
  {
   "cell_type": "markdown",
   "metadata": {},
   "source": [
    "## 12.1 Champion Counter\n",
    "Create a program that reads a text file that contains a list of FIFA World Cup champions and determines the country that has won the most championships.\n",
    "\n",
    "### Console:\n",
    "```powershell\n",
    "Country\t        Wins\tYears\t\n",
    "=======\t        ====\t=====\t\n",
    "Argentina       2       1978, 1986\n",
    "Brazil\t        5       1958, 1962, 1970, 1994, 2002\n",
    "England\t        1       1966\t\t\n",
    "France\t        1       1998\t\t\n",
    "Germany\t        4       1954, 1974, 1990, 2014\n",
    "Italy\t        4       1934, 1938, 1982, 2006\n",
    "Spain\t        1       2010\n",
    "Uruguay\t        2       1930, 1950\n",
    "```\n",
    "\n",
    "### Specifications:\n",
    "- Use the attached text file named `world_cup_champions.txt` that contains data like this: \n",
    "```powershell\n",
    "Year,Country,Coach,Captain \n",
    "1930,Uruguay,Alberto Suppici,José Nasazzi \n",
    "1934,Italy,Vittorio Pozzo,Gianpiero Combi \n",
    "1938,Italy,Vittorio Pozzo,Giuseppe Meazza\n",
    "...\n",
    "```\n",
    "- When the program starts, it should read the text file and use a dictionary to store the required data using the name of each country that has won the World Cup as the key.\n",
    "- The program should compile the data shown above and display the countries alphabetically.\n",
    "\n"
   ]
  },
  {
   "cell_type": "code",
   "execution_count": 5,
   "metadata": {},
   "outputs": [
    {
     "name": "stdout",
     "output_type": "stream",
     "text": [
      "Country        Wins    Years\n",
      "============== ====== ============================\n",
      "Argentina      2       1978, 1986\n",
      "Brazil         5       1958, 1962, 1970, 1994, 2002\n",
      "England        1       1966\n",
      "France         1       1998\n",
      "Germany        4       1954, 1974, 1990, 2014\n",
      "Italy          4       1934, 1938, 1982, 2006\n",
      "Spain          1       2010\n",
      "Uruguay        2       1930, 1950\n"
     ]
    }
   ],
   "source": [
    "def read_world_cup_data(filename):\n",
    "    champions = {}\n",
    "\n",
    "    with open(filename, 'r') as file:\n",
    "        file.readline()  # Skip the header\n",
    "\n",
    "        for line in file:\n",
    "            line = line.strip()\n",
    "            if line == \"\":\n",
    "                continue\n",
    "\n",
    "            parts = line.split(',')\n",
    "            year = parts[0]\n",
    "            country = parts[1]\n",
    "\n",
    "            if country not in champions:\n",
    "                champions[country] = {\n",
    "                    'wins': 0,\n",
    "                    'years': []\n",
    "                }\n",
    "\n",
    "            champions[country]['wins'] += 1\n",
    "            champions[country]['years'].append(year)\n",
    "\n",
    "    return champions\n",
    "\n",
    "\n",
    "def display_results(champions):\n",
    "    print(\"Country        Wins    Years\")\n",
    "    print(\"============== ====== ============================\")\n",
    "\n",
    "    for country in sorted(champions):\n",
    "        wins = champions[country]['wins']\n",
    "        years = ', '.join(champions[country]['years'])\n",
    "        print(f\"{country:<15}{wins:<8}{years}\")\n",
    "\n",
    "\n",
    "def find_top_country(champions):\n",
    "    top_country = \"\"\n",
    "    most_wins = 0\n",
    "\n",
    "    for country in champions:\n",
    "        if champions[country]['wins'] > most_wins:\n",
    "            most_wins = champions[country]['wins']\n",
    "            top_country = country\n",
    "\n",
    "    return top_country, most_wins\n",
    "\n",
    "\n",
    "def main():\n",
    "    filename = \"world_cup_champions.txt\"\n",
    "    champions = read_world_cup_data(filename)\n",
    "    display_results(champions)\n",
    "\n",
    "    \n",
    "\n",
    "if __name__ == \"__main__\":\n",
    "    main()\n"
   ]
  },
  {
   "cell_type": "markdown",
   "metadata": {},
   "source": [
    "## 12.2 Monthly Sales\n",
    "Create a program that allows you to view and edit the sales amounts for each month of the current year.\n",
    "\n",
    "### Console:\n",
    "```powershell\n",
    "Monthly Sales program\n",
    "\n",
    "COMMAND MENU\n",
    "view\t- View sales for specified month \n",
    "edit\t- Edit sales for specified month \n",
    "totals - View sales summary for year \n",
    "exit\t- Exit program\n",
    "\n",
    "Command: view\n",
    "Three-letter Month: jan\n",
    "Sales amount for Jan is 14,317.00.\n",
    "\n",
    "Command: edit\n",
    "Three-letter Month: jan \n",
    "Sales Amount: 15293\n",
    "Sales amount for Jan is 15,293.00.\n",
    "\n",
    "Command: totals\n",
    "Yearly total: 67,855.00\n",
    "Monthly average: 5,654.58\n",
    "\n",
    "Command: view\n",
    "Three-letter Month: july \n",
    "Invalid three-letter month.\n",
    "\n",
    "Command: exit Bye!\n",
    "```\n",
    "\n",
    "### Specifications:\n",
    "- Use the attached text file named `monthly_sales.txt` that consists of rows that contain three-letter abbreviations for the month and the monthly sales.\n",
    "- The program should read the file and store the sales data for each month in a dictionary with the month abbreviation as the key for each item.\n",
    "- Whenever the sales data is edited, the program should write the changed data to the text file.\n",
    "\n",
    "\n"
   ]
  },
  {
   "cell_type": "code",
   "execution_count": 5,
   "metadata": {},
   "outputs": [
    {
     "name": "stdout",
     "output_type": "stream",
     "text": [
      "Monthly Sales program\n",
      "\n",
      "COMMAND MENU\n",
      "view - View sales for specified month\n",
      "edit - Edit sales for specified month\n",
      "totals - View sales summary for year\n",
      "exit - Exit program\n",
      "\n"
     ]
    },
    {
     "name": "stdin",
     "output_type": "stream",
     "text": [
      "Command:  view\n",
      "Three-letter Month:  jan\n"
     ]
    },
    {
     "name": "stdout",
     "output_type": "stream",
     "text": [
      "Sales amount for Jan is 14317.0.\n",
      "\n"
     ]
    },
    {
     "name": "stdin",
     "output_type": "stream",
     "text": [
      "Command:  edit\n",
      "Three-letter Month:  jan\n",
      "Sales Amount:  15293\n"
     ]
    },
    {
     "name": "stdout",
     "output_type": "stream",
     "text": [
      "Sales amount for Jan is15293.0.\n",
      "\n"
     ]
    },
    {
     "name": "stdin",
     "output_type": "stream",
     "text": [
      "Command:  view\n",
      "Three-letter Month:  july\n"
     ]
    },
    {
     "name": "stdout",
     "output_type": "stream",
     "text": [
      "Invalid three-letter month.\n",
      "\n"
     ]
    },
    {
     "name": "stdin",
     "output_type": "stream",
     "text": [
      "Command:  exit\n"
     ]
    },
    {
     "name": "stdout",
     "output_type": "stream",
     "text": [
      "Bye!\n"
     ]
    }
   ],
   "source": [
    "def load_sales():\n",
    "     sales = {}\n",
    "     with open(\"monthly_sales.txt\", \"r\") as file:\n",
    "           for line in file:\n",
    "                parts = line.strip().split()\n",
    "                month = parts[0].lower()\n",
    "                amount = float(parts [1])\n",
    "                sales[month] = amount\n",
    "     return sales\n",
    "\n",
    "def save_sales(sales):\n",
    "     with open (\"monthly_sales.txt\", \"w\") as file:\n",
    "         for month in sales:\n",
    "            file.write(month.capitalize() + \" \" + str(int(sales[month])) + \"\\n\" )\n",
    "\n",
    "def view_sales(sales):\n",
    "     month = input(\"Three-letter Month: \").strip().lower()\n",
    "     if month in sales:\n",
    "         print(\"Sales amount for \" + month.capitalize() + \" is \" + str(sales[month]) + \".\")\n",
    "     else:\n",
    "         print(\"Invalid three-letter month.\")\n",
    "\n",
    "def edit_sales(sales):\n",
    "     month = input (\"Three-letter Month: \").strip().lower()\n",
    "     if month in sales:\n",
    "         amount = float (input (\"Sales Amount: \"))\n",
    "         sales[month] = amount\n",
    "         save_sales (sales)\n",
    "         print(\"Sales amount for \" + month.capitalize() + \" is \" + str(sales[month]) + \".\")\n",
    "     else:\n",
    "         print(\"Invalid three-letter month.\")\n",
    "\n",
    "def show_totals(sales):\n",
    "     total = sum(sales. values ( ))\n",
    "     average = total / len (sales)\n",
    "     print(\"Yearly total: \" + str(round(total, 2)))\n",
    "     print(\"Monthly average: \" + str(round (average, 2)))\n",
    "\n",
    "def main():\n",
    "     sales = load_sales ()\n",
    "     print(\"Monthly Sales program\\n\")\n",
    "     print (\"COMMAND MENU\")\n",
    "     print(\"view - View sales for specified month\")\n",
    "     print(\"edit - Edit sales for specified month\")\n",
    "     print(\"totals - View sales summary for year\")\n",
    "     print (\"exit - Exit program\\n\" )\n",
    "\n",
    "     while True:\n",
    "       command = input(\"Command: \").strip().lower()\n",
    "       if command == \"view\":\n",
    "         view_sales(sales)\n",
    "         print( )\n",
    "       elif command == \"edit\":\n",
    "         edit_sales(sales)\n",
    "         print( )\n",
    "       elif command == \"totals\":\n",
    "         show_totals(sales)\n",
    "         print( )\n",
    "       elif command == \"exit\":\n",
    "         print(\"Bye!\")\n",
    "         break\n",
    "       else:\n",
    "         print(\"Invalid command.\")\n",
    "\n",
    "if __name__ == \"__main__\":\n",
    "    main()\n",
    "            "
   ]
  },
  {
   "cell_type": "code",
   "execution_count": null,
   "metadata": {},
   "outputs": [],
   "source": []
  },
  {
   "cell_type": "code",
   "execution_count": null,
   "metadata": {},
   "outputs": [],
   "source": []
  }
 ],
 "metadata": {
  "kernelspec": {
   "display_name": "Python [conda env:base] *",
   "language": "python",
   "name": "conda-base-py"
  },
  "language_info": {
   "codemirror_mode": {
    "name": "ipython",
    "version": 3
   },
   "file_extension": ".py",
   "mimetype": "text/x-python",
   "name": "python",
   "nbconvert_exporter": "python",
   "pygments_lexer": "ipython3",
   "version": "3.12.7"
  }
 },
 "nbformat": 4,
 "nbformat_minor": 4
}
